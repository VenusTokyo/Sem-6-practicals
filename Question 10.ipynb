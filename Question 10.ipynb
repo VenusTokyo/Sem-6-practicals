{
 "cells": [
  {
   "cell_type": "markdown",
   "id": "2ff7fcd6",
   "metadata": {},
   "source": [
    "### Q10) Use conditional statements and different type of loops based on simple example/s. (Perform matrix multiplication using nested loops)."
   ]
  },
  {
   "cell_type": "code",
   "execution_count": 19,
   "id": "d6d3a4f1",
   "metadata": {
    "scrolled": false
   },
   "outputs": [
    {
     "name": "stdout",
     "output_type": "stream",
     "text": [
      "\n",
      "-*-*-*-*-*-*-*-*-*- IMPLEMENTATION OF LOOPS AND CONDITIONAL STATEMENTS TO PERFORM MATRIX MULTIPLICATION -*-*-*-*-*-*-*-*-*-\n",
      "\n",
      "Enter the number of rows in 1st matrix: 3\n",
      "Enter the number of columns in 1st matrix: 2\n",
      "Enter the number of rows in 2nd matrix: 2\n",
      "Enter the number of columns in 2nd matrix: 3\n",
      "Enter elements in 1st matrix:\n",
      "Row1:\n",
      "Column1: 4\n",
      "Column2: 9\n",
      "Row2:\n",
      "Column1: 2\n",
      "Column2: 7\n",
      "Row3:\n",
      "Column1: 0\n",
      "Column2: 9\n",
      "Enter elements in 2nd matrix:\n",
      "Row1:\n",
      "Column1: 8\n",
      "Column2: 4\n",
      "Column3: 1\n",
      "Row2:\n",
      "Column1: 5\n",
      "Column2: 2\n",
      "Column3: 5\n",
      "Product: \n",
      "[77, 34, 49]\n",
      "[51, 22, 37]\n",
      "[45, 18, 45]\n"
     ]
    }
   ],
   "source": [
    "def main():\n",
    "    print(\"\\n-*-*-*-*-*-*-*-*-*- IMPLEMENTATION OF LOOPS AND CONDITIONAL STATEMENTS TO PERFORM MATRIX MULTIPLICATION -*-*-*-*-*-*-*-*-*-\\n\")\n",
    "    r1=int(input(\"Enter the number of rows in 1st matrix: \"))\n",
    "    c1=int(input(\"Enter the number of columns in 1st matrix: \"))\n",
    "    r2=int(input(\"Enter the number of rows in 2nd matrix: \"))\n",
    "    c2=int(input(\"Enter the number of columns in 2nd matrix: \"))\n",
    "\n",
    "    a=[[0 for x in range(c1)] for y in range(r1)]\n",
    "    b=[[0 for x in range(c2)] for y in range(r2)]\n",
    "    p=[[0 for x in range(c2)] for y in range(r1)]\n",
    "\n",
    "    if((r1 and r2 and c1 and c2) > 0):\n",
    "        if(c1==r2):\n",
    "            print(\"Enter elements in 1st matrix:\")\n",
    "            for i in range(r1):\n",
    "                print(\"Row\",i+1,\":\",sep=\"\")\n",
    "                for j in range(c1):\n",
    "                    print(\"Column\",j+1,\":\",sep=\"\",end=\" \")\n",
    "                    a[i][j]=int(input())\n",
    "            print(\"Enter elements in 2nd matrix:\")\n",
    "            for i in range(r2):\n",
    "                print(\"Row\",i+1,\":\",sep=\"\")\n",
    "                for j in range(c2):\n",
    "                    print(\"Column\",j+1,\":\",sep=\"\",end=\" \")\n",
    "                    b[i][j]=int(input())\n",
    "            for i in range(len(a)):\n",
    "                for j in range(len(b[0])):\n",
    "                    for k in range(len(b)):\n",
    "                        p[i][j] += a[i][k]*b[k][j]\n",
    "            print(\"Product: \")\n",
    "            for i in range(len(p)):\n",
    "                print(p[i])\n",
    "        else:\n",
    "            print(\"Matrices not compatible for multiplication!\")\n",
    "            \n",
    "main()"
   ]
  }
 ],
 "metadata": {
  "kernelspec": {
   "display_name": "Python 3 (ipykernel)",
   "language": "python",
   "name": "python3"
  },
  "language_info": {
   "codemirror_mode": {
    "name": "ipython",
    "version": 3
   },
   "file_extension": ".py",
   "mimetype": "text/x-python",
   "name": "python",
   "nbconvert_exporter": "python",
   "pygments_lexer": "ipython3",
   "version": "3.9.7"
  }
 },
 "nbformat": 4,
 "nbformat_minor": 5
}
