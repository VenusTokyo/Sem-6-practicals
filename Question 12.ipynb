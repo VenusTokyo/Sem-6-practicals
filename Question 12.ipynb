{
 "cells": [
  {
   "cell_type": "markdown",
   "id": "c82f6e42",
   "metadata": {},
   "source": [
    "### Q12) Implement Linear Regression problem. For example, based onthe “Advertising” dataset comprising of budget of TV, Radio etc. and the sales data, predict the estimated sales for TV budget."
   ]
  },
  {
   "cell_type": "code",
   "execution_count": 1,
   "id": "9f3cccee",
   "metadata": {},
   "outputs": [],
   "source": [
    "import pandas as pd\n",
    "import numpy as np\n",
    "import matplotlib.pyplot as plt\n",
    "from sklearn.linear_model import LinearRegression\n",
    "from sklearn.model_selection import train_test_split\n",
    "from sklearn import metrics"
   ]
  },
  {
   "cell_type": "code",
   "execution_count": 2,
   "id": "93831e8d",
   "metadata": {},
   "outputs": [
    {
     "name": "stdout",
     "output_type": "stream",
     "text": [
      "\n",
      "-*-*-*-*-*-*-*-* Simple Linear Regression Model *-*-*-*-*-*-*-*-*-*-*\n",
      "\n",
      "Dataset chosen:\n"
     ]
    },
    {
     "data": {
      "text/html": [
       "<div>\n",
       "<style scoped>\n",
       "    .dataframe tbody tr th:only-of-type {\n",
       "        vertical-align: middle;\n",
       "    }\n",
       "\n",
       "    .dataframe tbody tr th {\n",
       "        vertical-align: top;\n",
       "    }\n",
       "\n",
       "    .dataframe thead th {\n",
       "        text-align: right;\n",
       "    }\n",
       "</style>\n",
       "<table border=\"1\" class=\"dataframe\">\n",
       "  <thead>\n",
       "    <tr style=\"text-align: right;\">\n",
       "      <th></th>\n",
       "      <th>Unnamed: 0</th>\n",
       "      <th>TV</th>\n",
       "      <th>radio</th>\n",
       "      <th>newspaper</th>\n",
       "      <th>sales</th>\n",
       "    </tr>\n",
       "  </thead>\n",
       "  <tbody>\n",
       "    <tr>\n",
       "      <th>0</th>\n",
       "      <td>1</td>\n",
       "      <td>230.1</td>\n",
       "      <td>37.8</td>\n",
       "      <td>69.2</td>\n",
       "      <td>22.1</td>\n",
       "    </tr>\n",
       "    <tr>\n",
       "      <th>1</th>\n",
       "      <td>2</td>\n",
       "      <td>44.5</td>\n",
       "      <td>39.3</td>\n",
       "      <td>45.1</td>\n",
       "      <td>10.4</td>\n",
       "    </tr>\n",
       "    <tr>\n",
       "      <th>2</th>\n",
       "      <td>3</td>\n",
       "      <td>17.2</td>\n",
       "      <td>45.9</td>\n",
       "      <td>69.3</td>\n",
       "      <td>9.3</td>\n",
       "    </tr>\n",
       "    <tr>\n",
       "      <th>3</th>\n",
       "      <td>4</td>\n",
       "      <td>151.5</td>\n",
       "      <td>41.3</td>\n",
       "      <td>58.5</td>\n",
       "      <td>18.5</td>\n",
       "    </tr>\n",
       "    <tr>\n",
       "      <th>4</th>\n",
       "      <td>5</td>\n",
       "      <td>180.8</td>\n",
       "      <td>10.8</td>\n",
       "      <td>58.4</td>\n",
       "      <td>12.9</td>\n",
       "    </tr>\n",
       "  </tbody>\n",
       "</table>\n",
       "</div>"
      ],
      "text/plain": [
       "   Unnamed: 0     TV  radio  newspaper  sales\n",
       "0           1  230.1   37.8       69.2   22.1\n",
       "1           2   44.5   39.3       45.1   10.4\n",
       "2           3   17.2   45.9       69.3    9.3\n",
       "3           4  151.5   41.3       58.5   18.5\n",
       "4           5  180.8   10.8       58.4   12.9"
      ]
     },
     "execution_count": 2,
     "metadata": {},
     "output_type": "execute_result"
    }
   ],
   "source": [
    "print(\"\\n-*-*-*-*-*-*-*-* Simple Linear Regression Model *-*-*-*-*-*-*-*-*-*-*\\n\")\n",
    "df = pd.read_csv('Advertising.csv')\n",
    "print(\"Dataset chosen:\")\n",
    "df.head()"
   ]
  },
  {
   "cell_type": "code",
   "execution_count": 3,
   "id": "a80effd0",
   "metadata": {},
   "outputs": [
    {
     "name": "stdout",
     "output_type": "stream",
     "text": [
      "---For Simple Linear Regression---\n"
     ]
    },
    {
     "data": {
      "text/html": [
       "<div>\n",
       "<style scoped>\n",
       "    .dataframe tbody tr th:only-of-type {\n",
       "        vertical-align: middle;\n",
       "    }\n",
       "\n",
       "    .dataframe tbody tr th {\n",
       "        vertical-align: top;\n",
       "    }\n",
       "\n",
       "    .dataframe thead th {\n",
       "        text-align: right;\n",
       "    }\n",
       "</style>\n",
       "<table border=\"1\" class=\"dataframe\">\n",
       "  <thead>\n",
       "    <tr style=\"text-align: right;\">\n",
       "      <th></th>\n",
       "      <th>radio</th>\n",
       "      <th>sales</th>\n",
       "    </tr>\n",
       "  </thead>\n",
       "  <tbody>\n",
       "    <tr>\n",
       "      <th>0</th>\n",
       "      <td>37.8</td>\n",
       "      <td>22.1</td>\n",
       "    </tr>\n",
       "    <tr>\n",
       "      <th>1</th>\n",
       "      <td>39.3</td>\n",
       "      <td>10.4</td>\n",
       "    </tr>\n",
       "    <tr>\n",
       "      <th>2</th>\n",
       "      <td>45.9</td>\n",
       "      <td>9.3</td>\n",
       "    </tr>\n",
       "    <tr>\n",
       "      <th>3</th>\n",
       "      <td>41.3</td>\n",
       "      <td>18.5</td>\n",
       "    </tr>\n",
       "    <tr>\n",
       "      <th>4</th>\n",
       "      <td>10.8</td>\n",
       "      <td>12.9</td>\n",
       "    </tr>\n",
       "  </tbody>\n",
       "</table>\n",
       "</div>"
      ],
      "text/plain": [
       "   radio  sales\n",
       "0   37.8   22.1\n",
       "1   39.3   10.4\n",
       "2   45.9    9.3\n",
       "3   41.3   18.5\n",
       "4   10.8   12.9"
      ]
     },
     "execution_count": 3,
     "metadata": {},
     "output_type": "execute_result"
    }
   ],
   "source": [
    "print(\"---For Simple Linear Regression---\")\n",
    "df_binary = df[['radio', 'sales']]\n",
    "df_binary.head()"
   ]
  },
  {
   "cell_type": "code",
   "execution_count": 4,
   "id": "cfd57841",
   "metadata": {},
   "outputs": [
    {
     "data": {
      "image/png": "[encoded data removed]",
      "text/plain": [
       "<Figure size 576x288 with 1 Axes>"
      ]
     },
     "metadata": {
      "needs_background": "light"
     },
     "output_type": "display_data"
    }
   ],
   "source": [
    "df_binary.isnull().sum()\n",
    "plt.figure(figsize=(8, 4))\n",
    "plt.scatter(df_binary['radio'], df_binary['sales'])\n",
    "plt.xlabel(\"Radio\")\n",
    "plt.ylabel(\"Sales\")\n",
    "plt.show()"
   ]
  },
  {
   "cell_type": "code",
   "execution_count": 5,
   "id": "7f8f1899",
   "metadata": {},
   "outputs": [
    {
     "name": "stdout",
     "output_type": "stream",
     "text": [
      "Intercept:  9.2862\n",
      "Coefficient:  0.20374\n",
      "\n",
      "The linear model is: y = 9.2862 + 0.20374x\n",
      "\n",
      "Predicted Value for the sale of radios:  [[213.02220968]]\n",
      "\n",
      "Accuracy Score:  0.33235\n",
      "Mean Squared Error:  17.0113\n",
      "Root Mean Square Error:  4.1245\n",
      "Train Score : 0.32967\n",
      "Test Score: 0.33235\n"
     ]
    }
   ],
   "source": [
    "x = np.array(df_binary['radio']).reshape(-1, 1)\n",
    "y = np.array(df_binary['sales']).reshape(-1, 1)\n",
    "  \n",
    "x_train, x_test, y_train, y_test = train_test_split(x, y, test_size = 0.3,random_state=4)\n",
    "SLR = LinearRegression()\n",
    "SLR.fit(x_train, y_train)\n",
    "\n",
    "print('Intercept: ',round(SLR.intercept_[0],4))\n",
    "print('Coefficient: ',round(SLR.coef_[0][0],5))\n",
    "\n",
    "print(\"\\nThe linear model is: y = {:.5} + {:.5}x\".format(SLR.intercept_[0], SLR.coef_[0][0]))\n",
    "\n",
    "y_pred=SLR.predict(x_test)\n",
    "y=SLR.predict(np.array([1000]).reshape(1,-1))\n",
    "print(\"\\nPredicted Value for the sale of radios: \", y)\n",
    "\n",
    "print(\"\\nAccuracy Score: \", round(SLR.score(x_test,y_test),5))\n",
    "print('Mean Squared Error: ', round(metrics.mean_squared_error(y_test,y_pred),4))\n",
    "print('Root Mean Square Error: ', round(np.sqrt(metrics.mean_squared_error(y_test,y_pred)),4))\n",
    "\n",
    "print('Train Score :', round(SLR.score(x_train,y_train),5))\n",
    "print('Test Score:', round(SLR.score(x_test,y_test),5))"
   ]
  },
  {
   "cell_type": "code",
   "execution_count": 6,
   "id": "e8aabc73",
   "metadata": {},
   "outputs": [
    {
     "data": {
      "image/png": "[encoded data removed]",
      "text/plain": [
       "<Figure size 576x288 with 1 Axes>"
      ]
     },
     "metadata": {
      "needs_background": "light"
     },
     "output_type": "display_data"
    }
   ],
   "source": [
    "plt.figure(figsize=(8, 4))\n",
    "plt.scatter(x_test, y_test, color=\"blue\")\n",
    "plt.plot(x_test, y_pred, color=\"red\")\n",
    "plt.show()"
   ]
  },
  {
   "cell_type": "code",
   "execution_count": 7,
   "id": "65ed6945",
   "metadata": {},
   "outputs": [
    {
     "data": {
      "image/png": "[encoded data removed]",
      "text/plain": [
       "<Figure size 432x288 with 1 Axes>"
      ]
     },
     "metadata": {
      "needs_background": "light"
     },
     "output_type": "display_data"
    }
   ],
   "source": [
    "errors = list()\n",
    "for i in range(len(y_test)):\n",
    "    E1 = (y_test[i] - y_pred[i])**2\n",
    "    errors.append(E1)\n",
    "plt.plot(errors)\n",
    "plt.xlabel('Predicted Value')\n",
    "plt.ylabel('Mean Squared Error')\n",
    "plt.show()"
   ]
  }
 ],
 "metadata": {
  "kernelspec": {
   "display_name": "Python 3 (ipykernel)",
   "language": "python",
   "name": "python3"
  },
  "language_info": {
   "codemirror_mode": {
    "name": "ipython",
    "version": 3
   },
   "file_extension": ".py",
   "mimetype": "text/x-python",
   "name": "python",
   "nbconvert_exporter": "python",
   "pygments_lexer": "ipython3",
   "version": "3.9.7"
  }
 },
 "nbformat": 4,
 "nbformat_minor": 5
}
