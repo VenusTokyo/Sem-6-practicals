{
 "cells": [
  {
   "cell_type": "markdown",
   "id": "3884a4a2",
   "metadata": {},
   "source": [
    "### Q11) Perform vectorized implementation of simple matrix operation like finding the transpose of a matrix, adding, subtracting or multiplying two matrices. "
   ]
  },
  {
   "cell_type": "code",
   "execution_count": 1,
   "id": "203b6c29",
   "metadata": {},
   "outputs": [],
   "source": [
    "import numpy as np"
   ]
  },
  {
   "cell_type": "code",
   "execution_count": 2,
   "id": "aeab1b9d",
   "metadata": {},
   "outputs": [
    {
     "name": "stdout",
     "output_type": "stream",
     "text": [
      "Matrix 1:\n",
      " [[1 3 0]\n",
      " [9 1 8]\n",
      " [4 7 1]]\n",
      "Matrix 2:\n",
      " [[2 8 5]\n",
      " [3 5 0]\n",
      " [9 1 5]]\n",
      "Sum: \n",
      " [[ 3 11  5]\n",
      " [12  6  8]\n",
      " [13  8  6]]\n",
      "\n",
      " Product:\n",
      "\n",
      "[11, 23, 5]\n",
      "[93, 85, 85]\n",
      "[38, 68, 25]\n",
      "\n",
      "Transpose of Matrix 1:\n",
      " [[1 9 4]\n",
      " [3 1 7]\n",
      " [0 8 1]]\n",
      "\n",
      "Inverse of Matrix 1:\n",
      " [[-3.92857143 -0.21428571  1.71428571]\n",
      " [ 1.64285714  0.07142857 -0.57142857]\n",
      " [ 4.21428571  0.35714286 -1.85714286]]\n"
     ]
    }
   ],
   "source": [
    "def main():\n",
    "    v1= np.array([[1,3,0],[9,1,8],[4,7,1]])\n",
    "    v2= np.array([[2,8,5],[3,5,0],[9,1,5]])\n",
    "    \n",
    "    print(\"Matrix 1:\\n\",v1)\n",
    "    print(\"Matrix 2:\\n\",v2)\n",
    "    \n",
    "    sum= np.add(v1,v2)\n",
    "    print(\"Sum: \\n\",sum)\n",
    "\n",
    "    result = [[0, 0, 0],[0, 0, 0],[0, 0, 0]] \n",
    "\n",
    "\n",
    "    for i in range(len(v1)): \n",
    "        for j in range(len(v2[0])): \n",
    "            for k in range(len(v2)): \n",
    "                result[i][j] += v1[i][k] * v2[k][j] \n",
    "    print(\"\\n Product:\\n\")  \n",
    "    for r in result: \n",
    "        print(r)\n",
    "\n",
    "    print(\"\\nTranspose of Matrix 1:\\n\",v1.T)\n",
    "    print(\"\\nInverse of Matrix 1:\\n\",np.linalg.inv(v1))\n",
    "    \n",
    "main()"
   ]
  }
 ],
 "metadata": {
  "kernelspec": {
   "display_name": "Python 3 (ipykernel)",
   "language": "python",
   "name": "python3"
  },
  "language_info": {
   "codemirror_mode": {
    "name": "ipython",
    "version": 3
   },
   "file_extension": ".py",
   "mimetype": "text/x-python",
   "name": "python",
   "nbconvert_exporter": "python",
   "pygments_lexer": "ipython3",
   "version": "3.9.7"
  }
 },
 "nbformat": 4,
 "nbformat_minor": 5
}
