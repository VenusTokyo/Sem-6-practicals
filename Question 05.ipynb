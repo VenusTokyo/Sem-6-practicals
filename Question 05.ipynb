{
 "cells": [
  {
   "cell_type": "markdown",
   "id": "88109993",
   "metadata": {},
   "source": [
    "### Q5) Use command to compute the size of a matrix, size/length of a particular row/column, load data from a text file, store matrix data to a text file."
   ]
  },
  {
   "cell_type": "code",
   "execution_count": 2,
   "id": "e9045680",
   "metadata": {},
   "outputs": [
    {
     "name": "stdout",
     "output_type": "stream",
     "text": [
      "\n",
      "Matrix loaded from file 'input.txt':\n",
      " [[ 12.  32.  76.  16.  94.  66.]\n",
      " [ 19.  52.  79.   2.   1.  -5.]\n",
      " [ -5.  71. -56.   3.  29.  14.]\n",
      " [ 11. -17.  18.  29.  56.  33.]\n",
      " [  0.  19.  -3.  26.  12.  59.]]\n",
      "\n",
      "Size of matrix: 30\n",
      "\n",
      "Dimension of matrix: 2\n",
      "\n",
      "Length and breadth of matrix: (5, 6)\n",
      "\n",
      " [[  24.   64.  152.   32.  188.  132.]\n",
      " [  38.  104.  158.    4.    2.  -10.]\n",
      " [ -10.  142. -112.    6.   58.   28.]\n",
      " [  22.  -34.   36.   58.  112.   66.]\n",
      " [   0.   38.   -6.   52.   24.  118.]] \n",
      "\n",
      "  ↑ Matrix stored  in file 'output.txt':\n"
     ]
    }
   ],
   "source": [
    "import numpy as np\n",
    "\n",
    "def main():    \n",
    "    a=np.loadtxt(\"input.txt\")\n",
    "    print(\"\\nMatrix loaded from file 'input.txt':\\n\",a)\n",
    "\n",
    "    print(\"\\nSize of matrix:\", np.size(a))\n",
    "    print(\"\\nDimension of matrix:\", np.ndim(a))\n",
    "    print(\"\\nLength and breadth of matrix:\", np.shape(a))\n",
    "\n",
    "    np.savetxt(\"output.txt\", a*2)\n",
    "    print(\"\\n\",a*2,\"\\n\\n  ↑ Matrix stored  in file 'output.txt':\")\n",
    "    \n",
    "main()"
   ]
  }
 ],
 "metadata": {
  "kernelspec": {
   "display_name": "Python 3 (ipykernel)",
   "language": "python",
   "name": "python3"
  },
  "language_info": {
   "codemirror_mode": {
    "name": "ipython",
    "version": 3
   },
   "file_extension": ".py",
   "mimetype": "text/x-python",
   "name": "python",
   "nbconvert_exporter": "python",
   "pygments_lexer": "ipython3",
   "version": "3.9.7"
  }
 },
 "nbformat": 4,
 "nbformat_minor": 5
}
