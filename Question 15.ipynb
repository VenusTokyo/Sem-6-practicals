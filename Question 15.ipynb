{
 "cells": [
  {
   "cell_type": "markdown",
   "id": "f1ac59de",
   "metadata": {},
   "source": [
    "### Q15) Use some function for regularization of “BOSTON” dataset available in ‘sklearn library’."
   ]
  },
  {
   "cell_type": "code",
   "execution_count": 1,
   "id": "192abd1f",
   "metadata": {},
   "outputs": [],
   "source": [
    "from sklearn.datasets import load_boston\n",
    "import pandas as pd\n",
    "from sklearn.model_selection import train_test_split\n",
    "from sklearn.linear_model import RidgeCV, LassoCV\n",
    "from sklearn import metrics\n",
    "import numpy as np"
   ]
  },
  {
   "cell_type": "code",
   "execution_count": 2,
   "id": "0456d97d",
   "metadata": {},
   "outputs": [
    {
     "data": {
      "text/html": [
       "<div>\n",
       "<style scoped>\n",
       "    .dataframe tbody tr th:only-of-type {\n",
       "        vertical-align: middle;\n",
       "    }\n",
       "\n",
       "    .dataframe tbody tr th {\n",
       "        vertical-align: top;\n",
       "    }\n",
       "\n",
       "    .dataframe thead th {\n",
       "        text-align: right;\n",
       "    }\n",
       "</style>\n",
       "<table border=\"1\" class=\"dataframe\">\n",
       "  <thead>\n",
       "    <tr style=\"text-align: right;\">\n",
       "      <th></th>\n",
       "      <th>CRIM</th>\n",
       "      <th>ZN</th>\n",
       "      <th>INDUS</th>\n",
       "      <th>CHAS</th>\n",
       "      <th>NOX</th>\n",
       "      <th>RM</th>\n",
       "      <th>AGE</th>\n",
       "      <th>DIS</th>\n",
       "      <th>RAD</th>\n",
       "      <th>TAX</th>\n",
       "      <th>PTRATIO</th>\n",
       "      <th>B</th>\n",
       "      <th>LSTAT</th>\n",
       "      <th>MEDV</th>\n",
       "    </tr>\n",
       "  </thead>\n",
       "  <tbody>\n",
       "    <tr>\n",
       "      <th>0</th>\n",
       "      <td>0.00632</td>\n",
       "      <td>18.0</td>\n",
       "      <td>2.31</td>\n",
       "      <td>0.0</td>\n",
       "      <td>0.538</td>\n",
       "      <td>6.575</td>\n",
       "      <td>65.2</td>\n",
       "      <td>4.0900</td>\n",
       "      <td>1.0</td>\n",
       "      <td>296.0</td>\n",
       "      <td>15.3</td>\n",
       "      <td>396.90</td>\n",
       "      <td>4.98</td>\n",
       "      <td>24.0</td>\n",
       "    </tr>\n",
       "    <tr>\n",
       "      <th>1</th>\n",
       "      <td>0.02731</td>\n",
       "      <td>0.0</td>\n",
       "      <td>7.07</td>\n",
       "      <td>0.0</td>\n",
       "      <td>0.469</td>\n",
       "      <td>6.421</td>\n",
       "      <td>78.9</td>\n",
       "      <td>4.9671</td>\n",
       "      <td>2.0</td>\n",
       "      <td>242.0</td>\n",
       "      <td>17.8</td>\n",
       "      <td>396.90</td>\n",
       "      <td>9.14</td>\n",
       "      <td>21.6</td>\n",
       "    </tr>\n",
       "    <tr>\n",
       "      <th>2</th>\n",
       "      <td>0.02729</td>\n",
       "      <td>0.0</td>\n",
       "      <td>7.07</td>\n",
       "      <td>0.0</td>\n",
       "      <td>0.469</td>\n",
       "      <td>7.185</td>\n",
       "      <td>61.1</td>\n",
       "      <td>4.9671</td>\n",
       "      <td>2.0</td>\n",
       "      <td>242.0</td>\n",
       "      <td>17.8</td>\n",
       "      <td>392.83</td>\n",
       "      <td>4.03</td>\n",
       "      <td>34.7</td>\n",
       "    </tr>\n",
       "    <tr>\n",
       "      <th>3</th>\n",
       "      <td>0.03237</td>\n",
       "      <td>0.0</td>\n",
       "      <td>2.18</td>\n",
       "      <td>0.0</td>\n",
       "      <td>0.458</td>\n",
       "      <td>6.998</td>\n",
       "      <td>45.8</td>\n",
       "      <td>6.0622</td>\n",
       "      <td>3.0</td>\n",
       "      <td>222.0</td>\n",
       "      <td>18.7</td>\n",
       "      <td>394.63</td>\n",
       "      <td>2.94</td>\n",
       "      <td>33.4</td>\n",
       "    </tr>\n",
       "    <tr>\n",
       "      <th>4</th>\n",
       "      <td>0.06905</td>\n",
       "      <td>0.0</td>\n",
       "      <td>2.18</td>\n",
       "      <td>0.0</td>\n",
       "      <td>0.458</td>\n",
       "      <td>7.147</td>\n",
       "      <td>54.2</td>\n",
       "      <td>6.0622</td>\n",
       "      <td>3.0</td>\n",
       "      <td>222.0</td>\n",
       "      <td>18.7</td>\n",
       "      <td>396.90</td>\n",
       "      <td>5.33</td>\n",
       "      <td>36.2</td>\n",
       "    </tr>\n",
       "  </tbody>\n",
       "</table>\n",
       "</div>"
      ],
      "text/plain": [
       "      CRIM    ZN  INDUS  CHAS    NOX     RM   AGE     DIS  RAD    TAX  \\\n",
       "0  0.00632  18.0   2.31   0.0  0.538  6.575  65.2  4.0900  1.0  296.0   \n",
       "1  0.02731   0.0   7.07   0.0  0.469  6.421  78.9  4.9671  2.0  242.0   \n",
       "2  0.02729   0.0   7.07   0.0  0.469  7.185  61.1  4.9671  2.0  242.0   \n",
       "3  0.03237   0.0   2.18   0.0  0.458  6.998  45.8  6.0622  3.0  222.0   \n",
       "4  0.06905   0.0   2.18   0.0  0.458  7.147  54.2  6.0622  3.0  222.0   \n",
       "\n",
       "   PTRATIO       B  LSTAT  MEDV  \n",
       "0     15.3  396.90   4.98  24.0  \n",
       "1     17.8  396.90   9.14  21.6  \n",
       "2     17.8  392.83   4.03  34.7  \n",
       "3     18.7  394.63   2.94  33.4  \n",
       "4     18.7  396.90   5.33  36.2  "
      ]
     },
     "execution_count": 2,
     "metadata": {},
     "output_type": "execute_result"
    }
   ],
   "source": [
    "boston_dataset = load_boston()\n",
    "boston = pd.DataFrame(boston_dataset.data, columns=boston_dataset.feature_names)\n",
    "boston['MEDV'] = boston_dataset.target\n",
    "boston.head()"
   ]
  },
  {
   "cell_type": "code",
   "execution_count": 3,
   "id": "fad2a2f7",
   "metadata": {},
   "outputs": [
    {
     "name": "stdout",
     "output_type": "stream",
     "text": [
      "---RIDGE---\n",
      "\n",
      "Alpha range:\n",
      " [1e-05, 0.01, 0.05, 0.1, 0.5, 1, 1.5, 3, 5, 6, 7, 8, 9, 10]\n",
      "Alpha value: 0.01\n",
      "Coefficient:\n",
      " [-1.13861015e-01  4.12256877e-02 -1.93278669e-02  2.44871215e+00\n",
      " -1.44968099e+01  3.82199823e+00 -7.81325806e-03 -1.37020341e+00\n",
      "  2.08689005e-01 -9.82481934e-03 -9.72643953e-01  8.43720305e-03\n",
      " -4.90564712e-01]\n"
     ]
    }
   ],
   "source": [
    "x = boston.drop(['MEDV'], axis=1)\n",
    "y = boston['MEDV']\n",
    "x_train,x_test,y_train,y_test=train_test_split(x,y,test_size=0.25,random_state=0)\n",
    "alpha_range=[0.00001, 0.01, 0.05, 0.1, 0.5, 1, 1.5, 3, 5, 6, 7, 8, 9, 10]\n",
    "ridgecv=RidgeCV(alphas=alpha_range, normalize=True, scoring='neg_mean_squared_error')\n",
    "ridgecv.fit(x_train,y_train)\n",
    "print(\"---RIDGE---\\n\")\n",
    "print(\"Alpha range:\\n\",alpha_range)\n",
    "print(\"Alpha value:\", ridgecv.alpha_)\n",
    "print(\"Coefficient:\\n\",ridgecv.coef_)"
   ]
  },
  {
   "cell_type": "code",
   "execution_count": 4,
   "id": "15e99bcd",
   "metadata": {},
   "outputs": [
    {
     "name": "stdout",
     "output_type": "stream",
     "text": [
      "---RIDGE---\n",
      "\n",
      "Accuracy Score:  0.6322070128554205\n",
      "Mean Absolute Error:  3.6679777452196825\n",
      "Mean Squared Score:  30.04832493472449\n",
      "Root Mean Squared Error  5.481635242765108\n"
     ]
    }
   ],
   "source": [
    "y_pred=ridgecv.predict(x_test)\n",
    "print(\"---RIDGE---\\n\")\n",
    "print(\"Accuracy Score: \", ridgecv.score(x_test,y_test))\n",
    "print(\"Mean Absolute Error: \", metrics.mean_absolute_error(y_test,y_pred))\n",
    "print(\"Mean Squared Score: \", metrics.mean_squared_error(y_test,y_pred))\n",
    "print(\"Root Mean Squared Error \", np.sqrt(metrics.mean_squared_error(y_test,y_pred)))"
   ]
  },
  {
   "cell_type": "code",
   "execution_count": 5,
   "id": "4a183c0b",
   "metadata": {},
   "outputs": [
    {
     "name": "stdout",
     "output_type": "stream",
     "text": [
      "---LASSO---\n",
      "\n",
      "Alpha Range:  [1e-06, 0.0001, 0.001, 0.005, 0.01, 0.05, 0.1, 0.2, 0.3, 0.4, 0.5]\n",
      "Alpha Value:  1e-05\n",
      "Coefficient:\n",
      " [-1.17660911e-01  4.39875866e-02 -5.81576667e-03  2.39328094e+00\n",
      " -1.55815760e+01  3.76933909e+00 -7.02220691e-03 -1.43422387e+00\n",
      "  2.39751536e-01 -1.12833576e-02 -9.85455195e-01  8.44173540e-03\n",
      " -4.99134840e-01]\n"
     ]
    }
   ],
   "source": [
    "lambda_values = [0.000001, 0.0001, 0.001, 0.005, 0.01, 0.05, 0.1, 0.2, 0.3, 0.4, 0.5]\n",
    "lassocv=LassoCV(alphas=alpha_range, normalize=True)\n",
    "lassocv.fit(x_train,y_train)\n",
    "print(\"---LASSO---\\n\")\n",
    "print(\"Alpha Range: \", lambda_values)\n",
    "print(\"Alpha Value: \", lassocv.alpha_)\n",
    "print(\"Coefficient:\\n\", lassocv.coef_)"
   ]
  },
  {
   "cell_type": "code",
   "execution_count": 6,
   "id": "10bbef1e",
   "metadata": {},
   "outputs": [
    {
     "name": "stdout",
     "output_type": "stream",
     "text": [
      "---LASSO---\n",
      "\n",
      "Accuracy Score  0.6354423976617789\n",
      "Mean Absolute Error:  3.668303600075387\n",
      "Mean Squared Score:  29.78399718148184\n",
      "Root Mean Squared Error  5.457471683983513\n"
     ]
    }
   ],
   "source": [
    "y_pred=lassocv.predict(x_test)\n",
    "print(\"---LASSO---\\n\")\n",
    "print(\"Accuracy Score \", lassocv.score(x_test,y_test))\n",
    "print(\"Mean Absolute Error: \", metrics.mean_absolute_error(y_test,y_pred))\n",
    "print(\"Mean Squared Score: \", metrics.mean_squared_error(y_test,y_pred))\n",
    "print(\"Root Mean Squared Error \", np.sqrt(metrics.mean_squared_error(y_test,y_pred)))"
   ]
  }
 ],
 "metadata": {
  "kernelspec": {
   "display_name": "Python 3 (ipykernel)",
   "language": "python",
   "name": "python3"
  },
  "language_info": {
   "codemirror_mode": {
    "name": "ipython",
    "version": 3
   },
   "file_extension": ".py",
   "mimetype": "text/x-python",
   "name": "python",
   "nbconvert_exporter": "python",
   "pygments_lexer": "ipython3",
   "version": "3.9.7"
  }
 },
 "nbformat": 4,
 "nbformat_minor": 5
}
