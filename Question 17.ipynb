{
 "cells": [
  {
   "cell_type": "markdown",
   "id": "18a550b6",
   "metadata": {},
   "source": [
    "### Q17) Implement Simple Linear Regression on “Advertising” dataset using Analytical Method."
   ]
  },
  {
   "cell_type": "code",
   "execution_count": 1,
   "id": "9009bcec",
   "metadata": {},
   "outputs": [],
   "source": [
    "import pandas as pd\n",
    "import numpy as np\n",
    "import matplotlib.pyplot as plt"
   ]
  },
  {
   "cell_type": "code",
   "execution_count": 2,
   "id": "694f322a",
   "metadata": {},
   "outputs": [
    {
     "name": "stdout",
     "output_type": "stream",
     "text": [
      "\n",
      "-*-*-*-*-*-*-*-* Linear Regression Model *-*-*-*-*-*-*-*-*-*-*\n",
      "\n"
     ]
    },
    {
     "data": {
      "text/html": [
       "<div>\n",
       "<style scoped>\n",
       "    .dataframe tbody tr th:only-of-type {\n",
       "        vertical-align: middle;\n",
       "    }\n",
       "\n",
       "    .dataframe tbody tr th {\n",
       "        vertical-align: top;\n",
       "    }\n",
       "\n",
       "    .dataframe thead th {\n",
       "        text-align: right;\n",
       "    }\n",
       "</style>\n",
       "<table border=\"1\" class=\"dataframe\">\n",
       "  <thead>\n",
       "    <tr style=\"text-align: right;\">\n",
       "      <th></th>\n",
       "      <th>radio</th>\n",
       "      <th>sales</th>\n",
       "    </tr>\n",
       "  </thead>\n",
       "  <tbody>\n",
       "    <tr>\n",
       "      <th>0</th>\n",
       "      <td>37.8</td>\n",
       "      <td>22.1</td>\n",
       "    </tr>\n",
       "    <tr>\n",
       "      <th>1</th>\n",
       "      <td>39.3</td>\n",
       "      <td>10.4</td>\n",
       "    </tr>\n",
       "    <tr>\n",
       "      <th>2</th>\n",
       "      <td>45.9</td>\n",
       "      <td>9.3</td>\n",
       "    </tr>\n",
       "    <tr>\n",
       "      <th>3</th>\n",
       "      <td>41.3</td>\n",
       "      <td>18.5</td>\n",
       "    </tr>\n",
       "    <tr>\n",
       "      <th>4</th>\n",
       "      <td>10.8</td>\n",
       "      <td>12.9</td>\n",
       "    </tr>\n",
       "  </tbody>\n",
       "</table>\n",
       "</div>"
      ],
      "text/plain": [
       "   radio  sales\n",
       "0   37.8   22.1\n",
       "1   39.3   10.4\n",
       "2   45.9    9.3\n",
       "3   41.3   18.5\n",
       "4   10.8   12.9"
      ]
     },
     "execution_count": 2,
     "metadata": {},
     "output_type": "execute_result"
    }
   ],
   "source": [
    "df=pd.read_csv('Advertising.csv')\n",
    "print(\"\\n-*-*-*-*-*-*-*-* Linear Regression Model *-*-*-*-*-*-*-*-*-*-*\\n\")\n",
    "\n",
    "df=df[['radio','sales']]\n",
    "df.head()"
   ]
  },
  {
   "cell_type": "code",
   "execution_count": 3,
   "id": "21e3d5e7",
   "metadata": {},
   "outputs": [
    {
     "name": "stdout",
     "output_type": "stream",
     "text": [
      "\n",
      "x-mean: 23.264 \ty-mean: 14.0225\n",
      "\n",
      "For calculating slope (m):\n",
      "      radio  sales  x-x_mean  y-y_mean  (x-x_mean)^2\n",
      "0     37.8   22.1    14.536    8.0775    211.295296\n",
      "1     39.3   10.4    16.036   -3.6225    257.153296\n",
      "2     45.9    9.3    22.636   -4.7225    512.388496\n",
      "3     41.3   18.5    18.036    4.4775    325.297296\n",
      "4     10.8   12.9   -12.464   -1.1225    155.351296\n",
      "..     ...    ...       ...       ...           ...\n",
      "195    3.7    7.6   -19.564   -6.4225    382.750096\n",
      "196    4.9    9.7   -18.364   -4.3225    337.236496\n",
      "197    9.3   12.8   -13.964   -1.2225    194.993296\n",
      "198   42.0   25.5    18.736   11.4775    351.037696\n",
      "199    8.6   13.4   -14.664   -0.6225    215.032896\n",
      "\n",
      "[200 rows x 5 columns]\n",
      "\n",
      "Estimated values:\n",
      "\n",
      "Slope:  0.2025\n",
      "\n",
      "Y-Intercept:  9.3116\n"
     ]
    }
   ],
   "source": [
    "x_mean=np.mean(df['radio'])\n",
    "y_mean=np.mean(df['sales'])\n",
    "print(\"\\nx-mean:\",round(x_mean,4),\"\\ty-mean:\",round(y_mean,4))\n",
    "\n",
    "df=pd.concat([df,pd.DataFrame((x-x_mean for x in df['radio']),columns=['x-x_mean']),pd.DataFrame((y-y_mean for y in df['sales']),columns=['y-y_mean'])],axis=1)\n",
    "df=pd.concat([df,pd.DataFrame((x**2 for x in df['x-x_mean']),columns=['(x-x_mean)^2'])],axis=1)\n",
    "print(\"\\nFor calculating slope (m):\\n\",df)\n",
    "\n",
    "m=np.sum(df['x-x_mean']*df['y-y_mean'])/np.sum(df['(x-x_mean)^2'])\n",
    "\n",
    "print(\"\\nEstimated values:\")\n",
    "print(\"\\nSlope: \",round(m,4))\n",
    "c=y_mean-m*x_mean\n",
    "print(\"\\nY-Intercept: \",round(c,4))"
   ]
  },
  {
   "cell_type": "code",
   "execution_count": 4,
   "id": "33af4aee",
   "metadata": {},
   "outputs": [
    {
     "name": "stdout",
     "output_type": "stream",
     "text": [
      "Accuracy Score:  0.33203245544529525\n",
      "Mean Squared Error:  5.8793014405216786e-30\n",
      "Root Mean Squared Error:  2.424727085781342e-15\n"
     ]
    }
   ],
   "source": [
    "x=np.array(df['radio'])\n",
    "y=np.array(df['sales'])\n",
    "y_pred=m*x+c\n",
    "\n",
    "ssr=np.sum((y-y_pred)*(y-y_pred))\n",
    "sst=np.sum((y-y_mean)*(y-y_mean))\n",
    "accuracy=1-(ssr/sst)\n",
    "print(\"Accuracy Score: \", accuracy)\n",
    "var=np.mean(y-y_pred)\n",
    "MSE=var*var\n",
    "print(\"Mean Squared Error: \", MSE)\n",
    "print(\"Root Mean Squared Error: \", np.sqrt(MSE))"
   ]
  },
  {
   "cell_type": "code",
   "execution_count": 5,
   "id": "48420013",
   "metadata": {},
   "outputs": [
    {
     "data": {
      "image/png": "[encoded data removed]",
      "text/plain": [
       "<Figure size 432x288 with 1 Axes>"
      ]
     },
     "metadata": {
      "needs_background": "light"
     },
     "output_type": "display_data"
    }
   ],
   "source": [
    "plt.scatter(df['radio'],df['sales'],color=\"red\", marker=\"^\",label='Dataset points')\n",
    "plt.scatter(x_mean,y_mean,color=\"green\",marker=\"^\",label='Mean point')\n",
    "\n",
    "x=np.arange(0,50)\n",
    "plt.plot(x,m*x+c,color=\"blue\",label='Linear Regression line')\n",
    "plt.title('Linear Regression Model - Advertising')\n",
    "plt.xlabel('Radio')\n",
    "plt.ylabel('Sales')\n",
    "plt.legend()\n",
    "plt.show()"
   ]
  }
 ],
 "metadata": {
  "kernelspec": {
   "display_name": "Python 3 (ipykernel)",
   "language": "python",
   "name": "python3"
  },
  "language_info": {
   "codemirror_mode": {
    "name": "ipython",
    "version": 3
   },
   "file_extension": ".py",
   "mimetype": "text/x-python",
   "name": "python",
   "nbconvert_exporter": "python",
   "pygments_lexer": "ipython3",
   "version": "3.9.7"
  }
 },
 "nbformat": 4,
 "nbformat_minor": 5
}
