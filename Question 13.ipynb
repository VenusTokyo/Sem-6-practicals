{
 "cells": [
  {
   "cell_type": "markdown",
   "id": "c82f6e42",
   "metadata": {},
   "source": [
    "### Q13) Implement Linear Regression problem based on multiple features/variables on “Advertising” dataset. For example, based on the budget of TV, Radio and Newspaper, predict the overall sales."
   ]
  },
  {
   "cell_type": "code",
   "execution_count": 1,
   "id": "9f3cccee",
   "metadata": {},
   "outputs": [],
   "source": [
    "import pandas as pd\n",
    "import numpy as np\n",
    "import matplotlib.pyplot as plt\n",
    "from sklearn.linear_model import LinearRegression\n",
    "from sklearn.model_selection import train_test_split\n",
    "from sklearn import metrics"
   ]
  },
  {
   "cell_type": "code",
   "execution_count": 2,
   "id": "93831e8d",
   "metadata": {},
   "outputs": [
    {
     "name": "stdout",
     "output_type": "stream",
     "text": [
      "\n",
      "-*-*-*-*-*-*-*-* Multiple Linear Regression Model *-*-*-*-*-*-*-*-*-*-*\n",
      "\n",
      "Dataset chosen:\n"
     ]
    },
    {
     "data": {
      "text/html": [
       "<div>\n",
       "<style scoped>\n",
       "    .dataframe tbody tr th:only-of-type {\n",
       "        vertical-align: middle;\n",
       "    }\n",
       "\n",
       "    .dataframe tbody tr th {\n",
       "        vertical-align: top;\n",
       "    }\n",
       "\n",
       "    .dataframe thead th {\n",
       "        text-align: right;\n",
       "    }\n",
       "</style>\n",
       "<table border=\"1\" class=\"dataframe\">\n",
       "  <thead>\n",
       "    <tr style=\"text-align: right;\">\n",
       "      <th></th>\n",
       "      <th>Unnamed: 0</th>\n",
       "      <th>TV</th>\n",
       "      <th>radio</th>\n",
       "      <th>newspaper</th>\n",
       "      <th>sales</th>\n",
       "    </tr>\n",
       "  </thead>\n",
       "  <tbody>\n",
       "    <tr>\n",
       "      <th>0</th>\n",
       "      <td>1</td>\n",
       "      <td>230.1</td>\n",
       "      <td>37.8</td>\n",
       "      <td>69.2</td>\n",
       "      <td>22.1</td>\n",
       "    </tr>\n",
       "    <tr>\n",
       "      <th>1</th>\n",
       "      <td>2</td>\n",
       "      <td>44.5</td>\n",
       "      <td>39.3</td>\n",
       "      <td>45.1</td>\n",
       "      <td>10.4</td>\n",
       "    </tr>\n",
       "    <tr>\n",
       "      <th>2</th>\n",
       "      <td>3</td>\n",
       "      <td>17.2</td>\n",
       "      <td>45.9</td>\n",
       "      <td>69.3</td>\n",
       "      <td>9.3</td>\n",
       "    </tr>\n",
       "    <tr>\n",
       "      <th>3</th>\n",
       "      <td>4</td>\n",
       "      <td>151.5</td>\n",
       "      <td>41.3</td>\n",
       "      <td>58.5</td>\n",
       "      <td>18.5</td>\n",
       "    </tr>\n",
       "    <tr>\n",
       "      <th>4</th>\n",
       "      <td>5</td>\n",
       "      <td>180.8</td>\n",
       "      <td>10.8</td>\n",
       "      <td>58.4</td>\n",
       "      <td>12.9</td>\n",
       "    </tr>\n",
       "  </tbody>\n",
       "</table>\n",
       "</div>"
      ],
      "text/plain": [
       "   Unnamed: 0     TV  radio  newspaper  sales\n",
       "0           1  230.1   37.8       69.2   22.1\n",
       "1           2   44.5   39.3       45.1   10.4\n",
       "2           3   17.2   45.9       69.3    9.3\n",
       "3           4  151.5   41.3       58.5   18.5\n",
       "4           5  180.8   10.8       58.4   12.9"
      ]
     },
     "execution_count": 2,
     "metadata": {},
     "output_type": "execute_result"
    }
   ],
   "source": [
    "print(\"\\n-*-*-*-*-*-*-*-* Multiple Linear Regression Model *-*-*-*-*-*-*-*-*-*-*\\n\")\n",
    "dataset = pd.read_csv('Advertising.csv')\n",
    "print(\"Dataset chosen:\")\n",
    "dataset.head()"
   ]
  },
  {
   "cell_type": "code",
   "execution_count": 3,
   "id": "a80effd0",
   "metadata": {},
   "outputs": [
    {
     "name": "stdout",
     "output_type": "stream",
     "text": [
      "---For Multiple Linear Regression---\n"
     ]
    },
    {
     "data": {
      "text/html": [
       "<div>\n",
       "<style scoped>\n",
       "    .dataframe tbody tr th:only-of-type {\n",
       "        vertical-align: middle;\n",
       "    }\n",
       "\n",
       "    .dataframe tbody tr th {\n",
       "        vertical-align: top;\n",
       "    }\n",
       "\n",
       "    .dataframe thead th {\n",
       "        text-align: right;\n",
       "    }\n",
       "</style>\n",
       "<table border=\"1\" class=\"dataframe\">\n",
       "  <thead>\n",
       "    <tr style=\"text-align: right;\">\n",
       "      <th></th>\n",
       "      <th>TV</th>\n",
       "      <th>radio</th>\n",
       "      <th>newspaper</th>\n",
       "      <th>sales</th>\n",
       "    </tr>\n",
       "  </thead>\n",
       "  <tbody>\n",
       "    <tr>\n",
       "      <th>0</th>\n",
       "      <td>230.1</td>\n",
       "      <td>37.8</td>\n",
       "      <td>69.2</td>\n",
       "      <td>22.1</td>\n",
       "    </tr>\n",
       "    <tr>\n",
       "      <th>1</th>\n",
       "      <td>44.5</td>\n",
       "      <td>39.3</td>\n",
       "      <td>45.1</td>\n",
       "      <td>10.4</td>\n",
       "    </tr>\n",
       "    <tr>\n",
       "      <th>2</th>\n",
       "      <td>17.2</td>\n",
       "      <td>45.9</td>\n",
       "      <td>69.3</td>\n",
       "      <td>9.3</td>\n",
       "    </tr>\n",
       "    <tr>\n",
       "      <th>3</th>\n",
       "      <td>151.5</td>\n",
       "      <td>41.3</td>\n",
       "      <td>58.5</td>\n",
       "      <td>18.5</td>\n",
       "    </tr>\n",
       "    <tr>\n",
       "      <th>4</th>\n",
       "      <td>180.8</td>\n",
       "      <td>10.8</td>\n",
       "      <td>58.4</td>\n",
       "      <td>12.9</td>\n",
       "    </tr>\n",
       "  </tbody>\n",
       "</table>\n",
       "</div>"
      ],
      "text/plain": [
       "      TV  radio  newspaper  sales\n",
       "0  230.1   37.8       69.2   22.1\n",
       "1   44.5   39.3       45.1   10.4\n",
       "2   17.2   45.9       69.3    9.3\n",
       "3  151.5   41.3       58.5   18.5\n",
       "4  180.8   10.8       58.4   12.9"
      ]
     },
     "execution_count": 3,
     "metadata": {},
     "output_type": "execute_result"
    }
   ],
   "source": [
    "print(\"---For Multiple Linear Regression---\")\n",
    "df = dataset[['TV','radio','newspaper', 'sales']]\n",
    "df.head()"
   ]
  },
  {
   "cell_type": "code",
   "execution_count": 4,
   "id": "7f8f1899",
   "metadata": {},
   "outputs": [
    {
     "name": "stdout",
     "output_type": "stream",
     "text": [
      "Intercept:  3.0906\n",
      "Coefficient:  0.04533\n",
      "\n",
      "The linear model is: y = 3.0906 + 0.045334*x1 + 0.17716*x2 + 0.0055385*x3\n",
      "\n",
      "Predicted Value for the sale of radios:  [[25.87155831]]\n",
      "\n",
      "Accuracy Score:  0.91272\n",
      "Mean Squared Error:  2.2238\n",
      "Root Mean Square Error:  1.4912\n",
      "Train Score : 0.88901\n",
      "Test Score: 0.91272\n"
     ]
    }
   ],
   "source": [
    "x = dataset.drop(['sales', 'Unnamed: 0'], axis=1)\n",
    "y = np.array(df['sales']).reshape(-1, 1)\n",
    "  \n",
    "x_train, x_test, y_train, y_test = train_test_split(x, y, test_size = 0.3,random_state=4)\n",
    "MLR = LinearRegression()\n",
    "MLR.fit(x_train, y_train)\n",
    "\n",
    "print('Intercept: ',round(MLR.intercept_[0],4))\n",
    "print('Coefficient: ',round(MLR.coef_[0][0],5))\n",
    "\n",
    "print(\"\\nThe linear model is: y = {:.5} + {:.5}*x1 + {:.5}*x2 + {:.5}*x3\".format(MLR.intercept_[0], MLR.coef_[0][0], MLR.coef_[0][1], MLR.coef_[0][2]))\n",
    "\n",
    "y_pred=MLR.predict(x_test)\n",
    "y=MLR.predict(np.array([275,55.7,80.6]).reshape(1,-1))\n",
    "print(\"\\nPredicted Value for the sale of radios: \", y)\n",
    "\n",
    "print(\"\\nAccuracy Score: \", round(MLR.score(x_test,y_test),5))\n",
    "print('Mean Squared Error: ', round(metrics.mean_squared_error(y_test,y_pred),4))\n",
    "print('Root Mean Square Error: ', round(np.sqrt(metrics.mean_squared_error(y_test,y_pred)),4))\n",
    "\n",
    "print('Train Score :', round(MLR.score(x_train,y_train),5))\n",
    "print('Test Score:', round(MLR.score(x_test,y_test),5))"
   ]
  },
  {
   "cell_type": "code",
   "execution_count": 5,
   "id": "65ed6945",
   "metadata": {},
   "outputs": [
    {
     "data": {
      "image/png": "[encoded data removed]",
      "text/plain": [
       "<Figure size 432x288 with 1 Axes>"
      ]
     },
     "metadata": {
      "needs_background": "light"
     },
     "output_type": "display_data"
    }
   ],
   "source": [
    "errors = list()\n",
    "for i in range(len(y_test)):\n",
    "    E1 = (y_test[i] - y_pred[i])**2\n",
    "    errors.append(E1)\n",
    "plt.plot(errors)\n",
    "plt.xlabel('Predicted Value')\n",
    "plt.ylabel('Mean Squared Error')\n",
    "plt.show()"
   ]
  }
 ],
 "metadata": {
  "kernelspec": {
   "display_name": "Python 3 (ipykernel)",
   "language": "python",
   "name": "python3"
  },
  "language_info": {
   "codemirror_mode": {
    "name": "ipython",
    "version": 3
   },
   "file_extension": ".py",
   "mimetype": "text/x-python",
   "name": "python",
   "nbconvert_exporter": "python",
   "pygments_lexer": "ipython3",
   "version": "3.9.7"
  }
 },
 "nbformat": 4,
 "nbformat_minor": 5
}
