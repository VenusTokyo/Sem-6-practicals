{
 "cells": [
  {
   "cell_type": "markdown",
   "id": "e185c948",
   "metadata": {},
   "source": [
    "### Q18) Implement Multiple Linear Regression on “Advertising” dataset using Normal Equation Method."
   ]
  },
  {
   "cell_type": "code",
   "execution_count": 1,
   "id": "f7618757",
   "metadata": {},
   "outputs": [],
   "source": [
    "import pandas as pd\n",
    "import numpy as np\n",
    "import matplotlib.pyplot as plt"
   ]
  },
  {
   "cell_type": "code",
   "execution_count": 2,
   "id": "04aef077",
   "metadata": {},
   "outputs": [
    {
     "data": {
      "text/html": [
       "<div>\n",
       "<style scoped>\n",
       "    .dataframe tbody tr th:only-of-type {\n",
       "        vertical-align: middle;\n",
       "    }\n",
       "\n",
       "    .dataframe tbody tr th {\n",
       "        vertical-align: top;\n",
       "    }\n",
       "\n",
       "    .dataframe thead th {\n",
       "        text-align: right;\n",
       "    }\n",
       "</style>\n",
       "<table border=\"1\" class=\"dataframe\">\n",
       "  <thead>\n",
       "    <tr style=\"text-align: right;\">\n",
       "      <th></th>\n",
       "      <th>Unnamed: 0</th>\n",
       "      <th>TV</th>\n",
       "      <th>radio</th>\n",
       "      <th>newspaper</th>\n",
       "      <th>sales</th>\n",
       "    </tr>\n",
       "  </thead>\n",
       "  <tbody>\n",
       "    <tr>\n",
       "      <th>0</th>\n",
       "      <td>1</td>\n",
       "      <td>230.1</td>\n",
       "      <td>37.8</td>\n",
       "      <td>69.2</td>\n",
       "      <td>22.1</td>\n",
       "    </tr>\n",
       "    <tr>\n",
       "      <th>1</th>\n",
       "      <td>2</td>\n",
       "      <td>44.5</td>\n",
       "      <td>39.3</td>\n",
       "      <td>45.1</td>\n",
       "      <td>10.4</td>\n",
       "    </tr>\n",
       "    <tr>\n",
       "      <th>2</th>\n",
       "      <td>3</td>\n",
       "      <td>17.2</td>\n",
       "      <td>45.9</td>\n",
       "      <td>69.3</td>\n",
       "      <td>9.3</td>\n",
       "    </tr>\n",
       "    <tr>\n",
       "      <th>3</th>\n",
       "      <td>4</td>\n",
       "      <td>151.5</td>\n",
       "      <td>41.3</td>\n",
       "      <td>58.5</td>\n",
       "      <td>18.5</td>\n",
       "    </tr>\n",
       "    <tr>\n",
       "      <th>4</th>\n",
       "      <td>5</td>\n",
       "      <td>180.8</td>\n",
       "      <td>10.8</td>\n",
       "      <td>58.4</td>\n",
       "      <td>12.9</td>\n",
       "    </tr>\n",
       "  </tbody>\n",
       "</table>\n",
       "</div>"
      ],
      "text/plain": [
       "   Unnamed: 0     TV  radio  newspaper  sales\n",
       "0           1  230.1   37.8       69.2   22.1\n",
       "1           2   44.5   39.3       45.1   10.4\n",
       "2           3   17.2   45.9       69.3    9.3\n",
       "3           4  151.5   41.3       58.5   18.5\n",
       "4           5  180.8   10.8       58.4   12.9"
      ]
     },
     "execution_count": 2,
     "metadata": {},
     "output_type": "execute_result"
    }
   ],
   "source": [
    "dataset = pd.read_csv(\"Advertising.csv\")\n",
    "dataset.head()"
   ]
  },
  {
   "cell_type": "code",
   "execution_count": 3,
   "id": "a7745cbb",
   "metadata": {
    "scrolled": false
   },
   "outputs": [
    {
     "name": "stdout",
     "output_type": "stream",
     "text": [
      "beta0:  2.9389\n",
      "beta1:  0.0458\n",
      "beta2:  0.1885\n",
      "beta3:  -0.001\n"
     ]
    }
   ],
   "source": [
    "x1=np.array(dataset['TV'])\n",
    "x2=np.array(dataset['radio'])\n",
    "x3=np.array(dataset['newspaper'])\n",
    "y=np.array(dataset['sales'])\n",
    "n=len(x1)\n",
    "x0=np.ones((n,1))\n",
    "x1_n=np.reshape(x1,(n,1))\n",
    "x2_n=np.reshape(x2,(n,1))\n",
    "x3_n=np.reshape(x3,(n,1))\n",
    "x=np.append(x0,x1_n,axis=1)\n",
    "x=np.append(x,x2_n,axis=1)\n",
    "x=np.append(x,x3_n,axis=1)\n",
    "\n",
    "x_trans=np.transpose(x)\n",
    "x_trans_dot_x=x_trans.dot(x)\n",
    "temp1=np.linalg.inv(x_trans_dot_x)\n",
    "temp2=x_trans.dot(y)\n",
    "theta=temp1.dot(temp2)\n",
    "b0=theta[0]\n",
    "b1=theta[1]\n",
    "b2=theta[2]\n",
    "b3=theta[3]\n",
    "print(\"beta0: \",round(b0,4))\n",
    "print(\"beta1: \",round(b1,4))\n",
    "print(\"beta2: \",round(b2,4))\n",
    "print(\"beta3: \",round(b3,4))"
   ]
  },
  {
   "cell_type": "code",
   "execution_count": 4,
   "id": "f4ca7d9c",
   "metadata": {},
   "outputs": [
    {
     "name": "stdout",
     "output_type": "stream",
     "text": [
      "Accuracy Score:  0.897211\n",
      "Mean Squared Error:  2.1412919297409665e-29\n",
      "Root Mean Squared Error:  4.6274095666376524e-15\n"
     ]
    }
   ],
   "source": [
    "y_pred=b0+x1*b1+x2*b2+x3*b3\n",
    "y_bar=np.mean(y)\n",
    "ssr=np.sum((y-y_pred)**2)\n",
    "sst=np.sum((y-y_bar)**2)\n",
    "accuracy=1-(ssr/sst)\n",
    "print(\"Accuracy Score: \", round(accuracy,6))\n",
    "var=np.mean(y-y_pred)\n",
    "MSE=var**2\n",
    "print(\"Mean Squared Error: \", MSE)\n",
    "print(\"Root Mean Squared Error: \", np.sqrt(MSE))"
   ]
  }
 ],
 "metadata": {
  "kernelspec": {
   "display_name": "Python 3 (ipykernel)",
   "language": "python",
   "name": "python3"
  },
  "language_info": {
   "codemirror_mode": {
    "name": "ipython",
    "version": 3
   },
   "file_extension": ".py",
   "mimetype": "text/x-python",
   "name": "python",
   "nbconvert_exporter": "python",
   "pygments_lexer": "ipython3",
   "version": "3.9.7"
  }
 },
 "nbformat": 4,
 "nbformat_minor": 5
}
