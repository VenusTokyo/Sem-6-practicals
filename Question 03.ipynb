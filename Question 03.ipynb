{
 "cells": [
  {
   "cell_type": "markdown",
   "id": "662999dc",
   "metadata": {},
   "source": [
    "### Q3) Create, initialize and display simple variables and simple strings and use simple formatting for variable."
   ]
  },
  {
   "cell_type": "code",
   "execution_count": 10,
   "id": "b908e77c",
   "metadata": {
    "scrolled": false
   },
   "outputs": [
    {
     "name": "stdout",
     "output_type": "stream",
     "text": [
      "\n",
      "x:  206 \n",
      "y:  28 \n",
      "z:  8\n",
      "\n",
      "-*-*-*-Using Formatters-*-*-*-\n",
      "\n",
      "There are 206 bones in the body.\n",
      "India has 28 states and 8 union territories in total.\n",
      "\n",
      "x:  0.5714285714285714 \n",
      "y:  15 \n",
      "z:           The sun rises in the EAST. \n",
      "And sets in the WEST.\n",
      "\n",
      "-*-*-*-String Formatting-*-*-*-\n",
      "\n",
      "Applying split:\n",
      " ['The', 'sun', 'rises', 'in', 'the', 'EAST.', 'And', 'sets', 'in', 'the', 'WEST.']\n",
      "\n",
      "Applying splitlines:\n",
      " ['         The sun rises in the EAST. ', 'And sets in the WEST.']\n",
      "\n",
      "Applying strip:\n",
      " The sun rises in the EAST. \n",
      "And sets in the WEST.\n",
      "\n",
      "Applying uppercase:\n",
      "          THE SUN RISES IN THE EAST. \n",
      "AND SETS IN THE WEST.\n",
      "\n",
      "Applying lowercase:\n",
      "          the sun rises in the east. \n",
      "and sets in the west.\n",
      "\n",
      "Applying Capitalization:\n",
      "          the sun rises in the east. \n",
      "and sets in the west.\n",
      "\n",
      "Applying title() function:\n",
      "          The Sun Rises In The East. \n",
      "And Sets In The West.\n",
      "\n",
      "Applying join:\n",
      " The_sun_rises_in_the_EAST._And_sets_in_the_WEST.\n",
      "\n",
      "-*-*-*-Number Formatting-*-*-*-\n",
      "\n",
      "Applying int():  0\n",
      "Applying hex():  0xf\n",
      "Applying bin():  0b1111\n",
      "Applying oct():  0o17\n"
     ]
    }
   ],
   "source": [
    "x=\"206\"\n",
    "y=\"28\"\n",
    "z=\"8\"\n",
    "print(\"\\nx: \",x,\"\\ny: \",y,\"\\nz: \",z)\n",
    "print(\"\\n-*-*-*-Using Formatters-*-*-*-\\n\")\n",
    "\n",
    "print(\"There are {} bones in the body.\".format(x))\n",
    "print(\"India has {} states and {} union territories in total.\".format(y,z))\n",
    "\n",
    "x= 4/7\n",
    "y=15\n",
    "z= \"\"\"         The sun rises in the EAST. \n",
    "And sets in the WEST.\"\"\"\n",
    "print(\"\\nx: \",x,\"\\ny: \",y,\"\\nz: \",z)\n",
    "\n",
    "print(\"\\n-*-*-*-String Formatting-*-*-*-\\n\")\n",
    "print(\"Applying split:\\n\",z.split())\n",
    "print(\"\\nApplying splitlines:\\n\",z.splitlines())\n",
    "print(\"\\nApplying strip:\\n\",z.strip())\n",
    "print(\"\\nApplying uppercase:\\n\",z.upper())\n",
    "print(\"\\nApplying lowercase:\\n\",z.lower())\n",
    "print(\"\\nApplying Capitalization:\\n\",z.capitalize())\n",
    "print(\"\\nApplying title() function:\\n\",z.title())\n",
    "print(\"\\nApplying join:\\n\",\"_\".join(z.split()))\n",
    "\n",
    "print(\"\\n-*-*-*-Number Formatting-*-*-*-\\n\")\n",
    "print(\"Applying int(): \",int(x))\n",
    "print(\"Applying hex(): \",hex(y))\n",
    "print(\"Applying bin(): \",bin(y))\n",
    "print(\"Applying oct(): \",oct(y))\n",
    "\n"
   ]
  }
 ],
 "metadata": {
  "kernelspec": {
   "display_name": "Python 3 (ipykernel)",
   "language": "python",
   "name": "python3"
  },
  "language_info": {
   "codemirror_mode": {
    "name": "ipython",
    "version": 3
   },
   "file_extension": ".py",
   "mimetype": "text/x-python",
   "name": "python",
   "nbconvert_exporter": "python",
   "pygments_lexer": "ipython3",
   "version": "3.9.7"
  }
 },
 "nbformat": 4,
 "nbformat_minor": 5
}
